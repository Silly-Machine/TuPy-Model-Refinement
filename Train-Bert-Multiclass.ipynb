{
  "nbformat": 4,
  "nbformat_minor": 0,
  "metadata": {
    "colab": {
      "provenance": [],
      "machine_shape": "hm",
      "gpuType": "A100",
      "toc_visible": true
    },
    "kernelspec": {
      "name": "python3",
      "display_name": "Python 3"
    },
    "language_info": {
      "name": "python"
    },
    "accelerator": "GPU",
    "widgets": {
      "application/vnd.jupyter.widget-state+json": {
        "3ef3bf88e15548bc9a17cc0d635fff9c": {
          "model_module": "@jupyter-widgets/controls",
          "model_name": "HBoxModel",
          "model_module_version": "1.5.0",
          "state": {
            "_dom_classes": [],
            "_model_module": "@jupyter-widgets/controls",
            "_model_module_version": "1.5.0",
            "_model_name": "HBoxModel",
            "_view_count": null,
            "_view_module": "@jupyter-widgets/controls",
            "_view_module_version": "1.5.0",
            "_view_name": "HBoxView",
            "box_style": "",
            "children": [
              "IPY_MODEL_cb551a55dccc486e82780278370e137d",
              "IPY_MODEL_9ff9ab872ae843c4a5b061de1dbcabd1",
              "IPY_MODEL_e1a40de31fab4ec1a54592da19d83240"
            ],
            "layout": "IPY_MODEL_2697a857513348e28cba7e0814fdd29f"
          }
        },
        "cb551a55dccc486e82780278370e137d": {
          "model_module": "@jupyter-widgets/controls",
          "model_name": "HTMLModel",
          "model_module_version": "1.5.0",
          "state": {
            "_dom_classes": [],
            "_model_module": "@jupyter-widgets/controls",
            "_model_module_version": "1.5.0",
            "_model_name": "HTMLModel",
            "_view_count": null,
            "_view_module": "@jupyter-widgets/controls",
            "_view_module_version": "1.5.0",
            "_view_name": "HTMLView",
            "description": "",
            "description_tooltip": null,
            "layout": "IPY_MODEL_f2336b41e6c24b62ad20e44ddbe57d9d",
            "placeholder": "​",
            "style": "IPY_MODEL_b4cdb0eabd3c4eafba8edf0e4341d1e9",
            "value": "pytorch_model.bin: 100%"
          }
        },
        "9ff9ab872ae843c4a5b061de1dbcabd1": {
          "model_module": "@jupyter-widgets/controls",
          "model_name": "FloatProgressModel",
          "model_module_version": "1.5.0",
          "state": {
            "_dom_classes": [],
            "_model_module": "@jupyter-widgets/controls",
            "_model_module_version": "1.5.0",
            "_model_name": "FloatProgressModel",
            "_view_count": null,
            "_view_module": "@jupyter-widgets/controls",
            "_view_module_version": "1.5.0",
            "_view_name": "ProgressView",
            "bar_style": "success",
            "description": "",
            "description_tooltip": null,
            "layout": "IPY_MODEL_f91ab973c52d499e833446f3629d1bbf",
            "max": 1342014951,
            "min": 0,
            "orientation": "horizontal",
            "style": "IPY_MODEL_90275cd7ad684dfaaec2592c749f840a",
            "value": 1342014951
          }
        },
        "e1a40de31fab4ec1a54592da19d83240": {
          "model_module": "@jupyter-widgets/controls",
          "model_name": "HTMLModel",
          "model_module_version": "1.5.0",
          "state": {
            "_dom_classes": [],
            "_model_module": "@jupyter-widgets/controls",
            "_model_module_version": "1.5.0",
            "_model_name": "HTMLModel",
            "_view_count": null,
            "_view_module": "@jupyter-widgets/controls",
            "_view_module_version": "1.5.0",
            "_view_name": "HTMLView",
            "description": "",
            "description_tooltip": null,
            "layout": "IPY_MODEL_63cdc6963d834667bd4e4dffc7fe86b3",
            "placeholder": "​",
            "style": "IPY_MODEL_6fc2784b6bd24e5b9bfa6dcb4f3f54c2",
            "value": " 1.34G/1.34G [01:29&lt;00:00, 16.7MB/s]"
          }
        },
        "2697a857513348e28cba7e0814fdd29f": {
          "model_module": "@jupyter-widgets/base",
          "model_name": "LayoutModel",
          "model_module_version": "1.2.0",
          "state": {
            "_model_module": "@jupyter-widgets/base",
            "_model_module_version": "1.2.0",
            "_model_name": "LayoutModel",
            "_view_count": null,
            "_view_module": "@jupyter-widgets/base",
            "_view_module_version": "1.2.0",
            "_view_name": "LayoutView",
            "align_content": null,
            "align_items": null,
            "align_self": null,
            "border": null,
            "bottom": null,
            "display": null,
            "flex": null,
            "flex_flow": null,
            "grid_area": null,
            "grid_auto_columns": null,
            "grid_auto_flow": null,
            "grid_auto_rows": null,
            "grid_column": null,
            "grid_gap": null,
            "grid_row": null,
            "grid_template_areas": null,
            "grid_template_columns": null,
            "grid_template_rows": null,
            "height": null,
            "justify_content": null,
            "justify_items": null,
            "left": null,
            "margin": null,
            "max_height": null,
            "max_width": null,
            "min_height": null,
            "min_width": null,
            "object_fit": null,
            "object_position": null,
            "order": null,
            "overflow": null,
            "overflow_x": null,
            "overflow_y": null,
            "padding": null,
            "right": null,
            "top": null,
            "visibility": null,
            "width": null
          }
        },
        "f2336b41e6c24b62ad20e44ddbe57d9d": {
          "model_module": "@jupyter-widgets/base",
          "model_name": "LayoutModel",
          "model_module_version": "1.2.0",
          "state": {
            "_model_module": "@jupyter-widgets/base",
            "_model_module_version": "1.2.0",
            "_model_name": "LayoutModel",
            "_view_count": null,
            "_view_module": "@jupyter-widgets/base",
            "_view_module_version": "1.2.0",
            "_view_name": "LayoutView",
            "align_content": null,
            "align_items": null,
            "align_self": null,
            "border": null,
            "bottom": null,
            "display": null,
            "flex": null,
            "flex_flow": null,
            "grid_area": null,
            "grid_auto_columns": null,
            "grid_auto_flow": null,
            "grid_auto_rows": null,
            "grid_column": null,
            "grid_gap": null,
            "grid_row": null,
            "grid_template_areas": null,
            "grid_template_columns": null,
            "grid_template_rows": null,
            "height": null,
            "justify_content": null,
            "justify_items": null,
            "left": null,
            "margin": null,
            "max_height": null,
            "max_width": null,
            "min_height": null,
            "min_width": null,
            "object_fit": null,
            "object_position": null,
            "order": null,
            "overflow": null,
            "overflow_x": null,
            "overflow_y": null,
            "padding": null,
            "right": null,
            "top": null,
            "visibility": null,
            "width": null
          }
        },
        "b4cdb0eabd3c4eafba8edf0e4341d1e9": {
          "model_module": "@jupyter-widgets/controls",
          "model_name": "DescriptionStyleModel",
          "model_module_version": "1.5.0",
          "state": {
            "_model_module": "@jupyter-widgets/controls",
            "_model_module_version": "1.5.0",
            "_model_name": "DescriptionStyleModel",
            "_view_count": null,
            "_view_module": "@jupyter-widgets/base",
            "_view_module_version": "1.2.0",
            "_view_name": "StyleView",
            "description_width": ""
          }
        },
        "f91ab973c52d499e833446f3629d1bbf": {
          "model_module": "@jupyter-widgets/base",
          "model_name": "LayoutModel",
          "model_module_version": "1.2.0",
          "state": {
            "_model_module": "@jupyter-widgets/base",
            "_model_module_version": "1.2.0",
            "_model_name": "LayoutModel",
            "_view_count": null,
            "_view_module": "@jupyter-widgets/base",
            "_view_module_version": "1.2.0",
            "_view_name": "LayoutView",
            "align_content": null,
            "align_items": null,
            "align_self": null,
            "border": null,
            "bottom": null,
            "display": null,
            "flex": null,
            "flex_flow": null,
            "grid_area": null,
            "grid_auto_columns": null,
            "grid_auto_flow": null,
            "grid_auto_rows": null,
            "grid_column": null,
            "grid_gap": null,
            "grid_row": null,
            "grid_template_areas": null,
            "grid_template_columns": null,
            "grid_template_rows": null,
            "height": null,
            "justify_content": null,
            "justify_items": null,
            "left": null,
            "margin": null,
            "max_height": null,
            "max_width": null,
            "min_height": null,
            "min_width": null,
            "object_fit": null,
            "object_position": null,
            "order": null,
            "overflow": null,
            "overflow_x": null,
            "overflow_y": null,
            "padding": null,
            "right": null,
            "top": null,
            "visibility": null,
            "width": null
          }
        },
        "90275cd7ad684dfaaec2592c749f840a": {
          "model_module": "@jupyter-widgets/controls",
          "model_name": "ProgressStyleModel",
          "model_module_version": "1.5.0",
          "state": {
            "_model_module": "@jupyter-widgets/controls",
            "_model_module_version": "1.5.0",
            "_model_name": "ProgressStyleModel",
            "_view_count": null,
            "_view_module": "@jupyter-widgets/base",
            "_view_module_version": "1.2.0",
            "_view_name": "StyleView",
            "bar_color": null,
            "description_width": ""
          }
        },
        "63cdc6963d834667bd4e4dffc7fe86b3": {
          "model_module": "@jupyter-widgets/base",
          "model_name": "LayoutModel",
          "model_module_version": "1.2.0",
          "state": {
            "_model_module": "@jupyter-widgets/base",
            "_model_module_version": "1.2.0",
            "_model_name": "LayoutModel",
            "_view_count": null,
            "_view_module": "@jupyter-widgets/base",
            "_view_module_version": "1.2.0",
            "_view_name": "LayoutView",
            "align_content": null,
            "align_items": null,
            "align_self": null,
            "border": null,
            "bottom": null,
            "display": null,
            "flex": null,
            "flex_flow": null,
            "grid_area": null,
            "grid_auto_columns": null,
            "grid_auto_flow": null,
            "grid_auto_rows": null,
            "grid_column": null,
            "grid_gap": null,
            "grid_row": null,
            "grid_template_areas": null,
            "grid_template_columns": null,
            "grid_template_rows": null,
            "height": null,
            "justify_content": null,
            "justify_items": null,
            "left": null,
            "margin": null,
            "max_height": null,
            "max_width": null,
            "min_height": null,
            "min_width": null,
            "object_fit": null,
            "object_position": null,
            "order": null,
            "overflow": null,
            "overflow_x": null,
            "overflow_y": null,
            "padding": null,
            "right": null,
            "top": null,
            "visibility": null,
            "width": null
          }
        },
        "6fc2784b6bd24e5b9bfa6dcb4f3f54c2": {
          "model_module": "@jupyter-widgets/controls",
          "model_name": "DescriptionStyleModel",
          "model_module_version": "1.5.0",
          "state": {
            "_model_module": "@jupyter-widgets/controls",
            "_model_module_version": "1.5.0",
            "_model_name": "DescriptionStyleModel",
            "_view_count": null,
            "_view_module": "@jupyter-widgets/base",
            "_view_module_version": "1.2.0",
            "_view_name": "StyleView",
            "description_width": ""
          }
        }
      }
    }
  },
  "cells": [
    {
      "cell_type": "markdown",
      "source": [
        "## Requirements"
      ],
      "metadata": {
        "id": "myO0XPhgU4VC"
      }
    },
    {
      "cell_type": "code",
      "execution_count": null,
      "metadata": {
        "id": "qQSshw17job5"
      },
      "outputs": [],
      "source": [
        "import torch\n",
        "from transformers import BertTokenizer, BertForSequenceClassification, AdamW, get_linear_schedule_with_warmup\n",
        "from sklearn.metrics import accuracy_score, precision_score, recall_score, f1_score\n",
        "from torch.utils.data import DataLoader, Dataset\n",
        "from sklearn.model_selection import train_test_split\n",
        "from sklearn.metrics import accuracy_score, classification_report\n",
        "import pandas as pd\n",
        "import joblib"
      ]
    },
    {
      "cell_type": "code",
      "source": [
        "# Check if GPU is available\n",
        "device = torch.device(\"cuda\" if torch.cuda.is_available() else \"cpu\")"
      ],
      "metadata": {
        "id": "ZZUhJzt-kTpR"
      },
      "execution_count": null,
      "outputs": []
    },
    {
      "cell_type": "code",
      "source": [
        "def correct_dataframe(df, label_columns):\n",
        "    \"\"\"\n",
        "    Corrects a DataFrame by ensuring label columns are numeric and handling missing values.\n",
        "\n",
        "    Parameters:\n",
        "    - df (pd.DataFrame): The input DataFrame.\n",
        "    - label_columns (list): A list of column names to be treated as labels.\n",
        "\n",
        "    Returns:\n",
        "    - pd.DataFrame: The corrected DataFrame.\n",
        "    \"\"\"\n",
        "    # Convert label columns to numeric\n",
        "    try:\n",
        "        df[label_columns] = df[label_columns].apply(pd.to_numeric, errors='coerce')\n",
        "    except Exception as e:\n",
        "        print(f\"Error during conversion to numeric: {e}\")\n",
        "\n",
        "    # Identify and print problematic rows\n",
        "    problematic_rows = df[df[label_columns].applymap(type).eq(object).any(axis=1)]\n",
        "    if not problematic_rows.empty:\n",
        "        print(\"Problematic rows with non-numeric elements:\")\n",
        "        print(problematic_rows)\n",
        "\n",
        "    # Fill missing values with 0\n",
        "    df[label_columns] = df[label_columns].fillna(0)\n",
        "\n",
        "    return df"
      ],
      "metadata": {
        "id": "HnAFvZbKp47y"
      },
      "execution_count": null,
      "outputs": []
    },
    {
      "cell_type": "markdown",
      "source": [
        "## Load and split data"
      ],
      "metadata": {
        "id": "Y3d_nJKi9SBH"
      }
    },
    {
      "cell_type": "code",
      "source": [
        "# Load the local dataset\n",
        "labels_list = ['ageism', 'aporophobia', 'body_shame', 'capacitism', 'lgbtphobia', 'political',\n",
        "               'racism', 'religious_intolerance', 'misogyny', 'xenophobia', 'other']\n",
        "df = pd.read_csv(\"https://raw.githubusercontent.com/Silly-Machine/TuPi-Portuguese-Hate-Speech-Dataset/main/datasets/tupi_hierarchy.csv\")\n",
        "df['not_hate'] = df[labels_list].apply(lambda row: 1 if row.sum() == 0 else 0, axis=1)\n",
        "labels_list.append('not_hate')\n",
        "df = correct_dataframe(df,labels_list)\n",
        "df = df[['text']+labels_list]"
      ],
      "metadata": {
        "id": "WebRwDkNj7Ky"
      },
      "execution_count": null,
      "outputs": []
    },
    {
      "cell_type": "code",
      "source": [
        "#Labels list\n",
        "id2label = {idx:label for idx, label in enumerate(labels_list)}\n",
        "label2id = {label:idx for idx, label in enumerate(labels_list)}"
      ],
      "metadata": {
        "id": "7_5sq8EiXBRv"
      },
      "execution_count": null,
      "outputs": []
    },
    {
      "cell_type": "code",
      "source": [
        "# Load pre-trained BERT model and tokenizer\n",
        "model_name = \"neuralmind/bert-large-portuguese-cased\"\n",
        "tokenizer = BertTokenizer.from_pretrained(model_name)\n",
        "model = BertForSequenceClassification.from_pretrained(model_name,\n",
        "                                                      num_labels=len(labels_list),\n",
        "                                                      id2label=id2label,\n",
        "                                                      label2id=label2id)\n",
        "\n",
        "# Split the dataset into training and validation sets (stratified)\n",
        "train_texts, val_texts, train_labels, val_labels = train_test_split(\n",
        "    df['text'], df[labels_list], test_size=0.2, random_state=42, stratify=df['not_hate']\n",
        ")\n",
        "\n",
        "# Tokenize the texts\n",
        "train_encodings = tokenizer(list(train_texts), truncation=True, padding=True)\n",
        "val_encodings = tokenizer(list(val_texts), truncation=True, padding=True)\n",
        "\n",
        "# Convert labels to PyTorch tensors\n",
        "train_labels = torch.tensor(train_labels.values)\n",
        "val_labels = torch.tensor(val_labels.values)"
      ],
      "metadata": {
        "id": "lvadPU6Ukwj9",
        "colab": {
          "base_uri": "https://localhost:8080/",
          "height": 121,
          "referenced_widgets": [
            "3ef3bf88e15548bc9a17cc0d635fff9c",
            "cb551a55dccc486e82780278370e137d",
            "9ff9ab872ae843c4a5b061de1dbcabd1",
            "e1a40de31fab4ec1a54592da19d83240",
            "2697a857513348e28cba7e0814fdd29f",
            "f2336b41e6c24b62ad20e44ddbe57d9d",
            "b4cdb0eabd3c4eafba8edf0e4341d1e9",
            "f91ab973c52d499e833446f3629d1bbf",
            "90275cd7ad684dfaaec2592c749f840a",
            "63cdc6963d834667bd4e4dffc7fe86b3",
            "6fc2784b6bd24e5b9bfa6dcb4f3f54c2"
          ]
        },
        "outputId": "def533e5-350a-46c3-976c-8374cbf3e255"
      },
      "execution_count": null,
      "outputs": [
        {
          "output_type": "display_data",
          "data": {
            "text/plain": [
              "pytorch_model.bin:   0%|          | 0.00/1.34G [00:00<?, ?B/s]"
            ],
            "application/vnd.jupyter.widget-view+json": {
              "version_major": 2,
              "version_minor": 0,
              "model_id": "3ef3bf88e15548bc9a17cc0d635fff9c"
            }
          },
          "metadata": {}
        },
        {
          "output_type": "stream",
          "name": "stderr",
          "text": [
            "Some weights of BertForSequenceClassification were not initialized from the model checkpoint at neuralmind/bert-large-portuguese-cased and are newly initialized: ['classifier.bias', 'classifier.weight']\n",
            "You should probably TRAIN this model on a down-stream task to be able to use it for predictions and inference.\n",
            "Asking to truncate to max_length but no maximum length is provided and the model has no predefined maximum length. Default to no truncation.\n"
          ]
        }
      ]
    },
    {
      "cell_type": "code",
      "source": [
        "# Create PyTorch datasets\n",
        "class CustomDataset(Dataset):\n",
        "    def __init__(self, encodings, labels):\n",
        "        self.encodings = encodings\n",
        "        self.labels = labels\n",
        "\n",
        "    def __getitem__(self, idx):\n",
        "        item = {key: torch.tensor(val[idx]) for key, val in self.encodings.items()}\n",
        "        item['labels'] = torch.tensor(self.labels[idx]).long()  # Convert the label to a long tensor\n",
        "        return item\n",
        "\n",
        "    def __len__(self):\n",
        "        return len(self.labels)\n",
        "\n",
        "# Create datasets and dataloaders\n",
        "train_dataset = CustomDataset(train_encodings, train_labels)\n",
        "val_dataset = CustomDataset(val_encodings, val_labels)\n"
      ],
      "metadata": {
        "id": "j06I-CRAmIOY"
      },
      "execution_count": null,
      "outputs": []
    },
    {
      "cell_type": "markdown",
      "source": [
        "## Train"
      ],
      "metadata": {
        "id": "_CuMUXQO9NCK"
      }
    },
    {
      "cell_type": "code",
      "source": [
        "# Create PyTorch datasets\n",
        "class CustomDataset(Dataset):\n",
        "    def __init__(self, encodings, labels):\n",
        "        self.encodings = encodings\n",
        "        self.labels = labels\n",
        "\n",
        "    def __getitem__(self, idx):\n",
        "        item = {key: torch.tensor(val[idx]) for key, val in self.encodings.items()}\n",
        "        item['labels'] = torch.tensor(self.labels[idx]).long()  # Convert the label to a long tensor\n",
        "        return item\n",
        "\n",
        "    def __len__(self):\n",
        "        return len(self.labels)\n",
        "\n",
        "# Create datasets and dataloaders\n",
        "train_dataset = CustomDataset(train_encodings, train_labels)\n",
        "val_dataset = CustomDataset(val_encodings, val_labels)\n",
        "\n",
        "# Define training parameters\n",
        "optimizer = AdamW(model.parameters(), lr=1e-5)\n",
        "num_epochs = 10\n",
        "num_warmup_steps = 0  # You may adjust this based on your specific requirements\n",
        "scheduler = get_linear_schedule_with_warmup(optimizer, num_warmup_steps=num_warmup_steps, num_training_steps=len(train_dataset) * num_epochs)\n",
        "\n",
        "\n",
        "# Training loop\n",
        "torch.cuda.empty_cache()\n",
        "device = torch.device('cuda') if torch.cuda.is_available() else torch.device('cpu')\n",
        "model.to(device)\n",
        "model.train()\n",
        "\n",
        "for epoch in range(num_epochs):\n",
        "    print(f\"\\nEpoch {epoch + 1}/{num_epochs}\")\n",
        "\n",
        "    train_loader = DataLoader(train_dataset, batch_size=32, shuffle=True)\n",
        "\n",
        "    total_batches = len(train_loader)\n",
        "    total_loss = 0.0\n",
        "\n",
        "    for batch_idx, batch in enumerate(train_loader, 1):\n",
        "        optimizer.zero_grad()\n",
        "        input_ids = batch['input_ids'].to(device)\n",
        "        attention_mask = batch['attention_mask'].to(device)\n",
        "        labels = batch['labels'].to(device)\n",
        "\n",
        "        outputs = model(input_ids, attention_mask=attention_mask)\n",
        "\n",
        "        # Assuming your model returns logits, not loss directly\n",
        "        logits = outputs.logits\n",
        "\n",
        "        # Use BCEWithLogitsLoss for multi-label classification\n",
        "        loss_fn = torch.nn.BCEWithLogitsLoss()\n",
        "        loss = loss_fn(logits, labels.float())  # Convert labels to float\n",
        "\n",
        "        loss.backward()\n",
        "        optimizer.step()\n",
        "        scheduler.step()\n",
        "\n",
        "        total_loss += loss.item()\n",
        "\n",
        "        if batch_idx % 100 == 0:\n",
        "            print(f\"Batch {batch_idx}/{total_batches}, Loss: {loss.item()}\")\n",
        "\n",
        "    average_loss = total_loss / total_batches\n",
        "    print(f\"Epoch {epoch + 1} - Average Loss: {average_loss}\")"
      ],
      "metadata": {
        "id": "UvOtlUu8nA1j",
        "colab": {
          "base_uri": "https://localhost:8080/"
        },
        "outputId": "a03876e6-f7ef-47d4-9565-a24d0bfa8ec7"
      },
      "execution_count": null,
      "outputs": [
        {
          "output_type": "stream",
          "name": "stderr",
          "text": [
            "/usr/local/lib/python3.10/dist-packages/transformers/optimization.py:411: FutureWarning: This implementation of AdamW is deprecated and will be removed in a future version. Use the PyTorch implementation torch.optim.AdamW instead, or set `no_deprecation_warning=True` to disable this warning\n",
            "  warnings.warn(\n"
          ]
        },
        {
          "output_type": "stream",
          "name": "stdout",
          "text": [
            "\n",
            "Epoch 1/10\n"
          ]
        },
        {
          "output_type": "stream",
          "name": "stderr",
          "text": [
            "<ipython-input-11-faeab24520ed>:9: UserWarning: To copy construct from a tensor, it is recommended to use sourceTensor.clone().detach() or sourceTensor.clone().detach().requires_grad_(True), rather than torch.tensor(sourceTensor).\n",
            "  item['labels'] = torch.tensor(self.labels[idx]).long()  # Convert the label to a long tensor\n"
          ]
        },
        {
          "output_type": "stream",
          "name": "stdout",
          "text": [
            "Batch 100/1092, Loss: 0.13500964641571045\n",
            "Batch 200/1092, Loss: 0.1386624127626419\n",
            "Batch 300/1092, Loss: 0.10018342733383179\n",
            "Batch 400/1092, Loss: 0.11826922744512558\n",
            "Batch 500/1092, Loss: 0.060162078589200974\n",
            "Batch 600/1092, Loss: 0.10906629264354706\n",
            "Batch 700/1092, Loss: 0.095174640417099\n",
            "Batch 800/1092, Loss: 0.0988934263586998\n",
            "Batch 900/1092, Loss: 0.12599794566631317\n",
            "Batch 1000/1092, Loss: 0.05508360266685486\n",
            "Epoch 1 - Average Loss: 0.1101217048716878\n",
            "\n",
            "Epoch 2/10\n",
            "Batch 100/1092, Loss: 0.07913634926080704\n",
            "Batch 200/1092, Loss: 0.06320416927337646\n",
            "Batch 300/1092, Loss: 0.07058559358119965\n",
            "Batch 400/1092, Loss: 0.08023186773061752\n",
            "Batch 500/1092, Loss: 0.0650903582572937\n",
            "Batch 600/1092, Loss: 0.12923520803451538\n",
            "Batch 700/1092, Loss: 0.031534343957901\n",
            "Batch 800/1092, Loss: 0.09747114032506943\n",
            "Batch 900/1092, Loss: 0.069057397544384\n",
            "Batch 1000/1092, Loss: 0.057367488741874695\n",
            "Epoch 2 - Average Loss: 0.0662623592115079\n",
            "\n",
            "Epoch 3/10\n",
            "Batch 100/1092, Loss: 0.06476868689060211\n",
            "Batch 200/1092, Loss: 0.07130773365497589\n",
            "Batch 300/1092, Loss: 0.10024281591176987\n",
            "Batch 400/1092, Loss: 0.07014854997396469\n",
            "Batch 500/1092, Loss: 0.049923282116651535\n",
            "Batch 600/1092, Loss: 0.10607310384511948\n",
            "Batch 700/1092, Loss: 0.06666676700115204\n",
            "Batch 800/1092, Loss: 0.039549630135297775\n",
            "Batch 900/1092, Loss: 0.047261737287044525\n",
            "Batch 1000/1092, Loss: 0.03818110376596451\n",
            "Epoch 3 - Average Loss: 0.051948218360788875\n",
            "\n",
            "Epoch 4/10\n",
            "Batch 100/1092, Loss: 0.013900692574679852\n",
            "Batch 200/1092, Loss: 0.0627727210521698\n",
            "Batch 300/1092, Loss: 0.03362339735031128\n",
            "Batch 400/1092, Loss: 0.04508582875132561\n",
            "Batch 500/1092, Loss: 0.056057997047901154\n",
            "Batch 600/1092, Loss: 0.03109007701277733\n",
            "Batch 700/1092, Loss: 0.011975448578596115\n",
            "Batch 800/1092, Loss: 0.06350159645080566\n",
            "Batch 900/1092, Loss: 0.033440232276916504\n",
            "Batch 1000/1092, Loss: 0.03250686079263687\n",
            "Epoch 4 - Average Loss: 0.03908010086917997\n",
            "\n",
            "Epoch 5/10\n",
            "Batch 100/1092, Loss: 0.0210612453520298\n",
            "Batch 200/1092, Loss: 0.010047944262623787\n",
            "Batch 300/1092, Loss: 0.02931278571486473\n",
            "Batch 400/1092, Loss: 0.052562616765499115\n",
            "Batch 500/1092, Loss: 0.013373593799769878\n",
            "Batch 600/1092, Loss: 0.04130326956510544\n",
            "Batch 700/1092, Loss: 0.02766255848109722\n",
            "Batch 800/1092, Loss: 0.02900126948952675\n",
            "Batch 900/1092, Loss: 0.022321373224258423\n",
            "Batch 1000/1092, Loss: 0.02202269248664379\n",
            "Epoch 5 - Average Loss: 0.028071841108612716\n",
            "\n",
            "Epoch 6/10\n",
            "Batch 100/1092, Loss: 0.012591231614351273\n",
            "Batch 200/1092, Loss: 0.013665549457073212\n",
            "Batch 300/1092, Loss: 0.03754517436027527\n",
            "Batch 400/1092, Loss: 0.016443941742181778\n",
            "Batch 500/1092, Loss: 0.027287153527140617\n",
            "Batch 600/1092, Loss: 0.008365816436707973\n",
            "Batch 700/1092, Loss: 0.031695038080215454\n",
            "Batch 800/1092, Loss: 0.043810635805130005\n",
            "Batch 900/1092, Loss: 0.012940382584929466\n",
            "Batch 1000/1092, Loss: 0.004513892345130444\n",
            "Epoch 6 - Average Loss: 0.020959605772756962\n",
            "\n",
            "Epoch 7/10\n",
            "Batch 100/1092, Loss: 0.003887574654072523\n",
            "Batch 200/1092, Loss: 0.0075382343493402\n",
            "Batch 300/1092, Loss: 0.018159987404942513\n",
            "Batch 400/1092, Loss: 0.02638906054198742\n",
            "Batch 500/1092, Loss: 0.007723811082541943\n",
            "Batch 600/1092, Loss: 0.006782499607652426\n",
            "Batch 700/1092, Loss: 0.044791482388973236\n",
            "Batch 800/1092, Loss: 0.0038664171006530523\n",
            "Batch 900/1092, Loss: 0.01977059617638588\n",
            "Batch 1000/1092, Loss: 0.011935981921851635\n",
            "Epoch 7 - Average Loss: 0.016896421345306438\n",
            "\n",
            "Epoch 8/10\n",
            "Batch 100/1092, Loss: 0.0071531860157847404\n",
            "Batch 200/1092, Loss: 0.005176501348614693\n",
            "Batch 300/1092, Loss: 0.03056073561310768\n",
            "Batch 400/1092, Loss: 0.023080876097083092\n",
            "Batch 500/1092, Loss: 0.0034236786887049675\n",
            "Batch 600/1092, Loss: 0.010724677704274654\n",
            "Batch 700/1092, Loss: 0.004351107869297266\n",
            "Batch 800/1092, Loss: 0.01741918921470642\n",
            "Batch 900/1092, Loss: 0.012208322063088417\n",
            "Batch 1000/1092, Loss: 0.009374614804983139\n",
            "Epoch 8 - Average Loss: 0.013907449570113039\n",
            "\n",
            "Epoch 9/10\n",
            "Batch 100/1092, Loss: 0.010632751509547234\n",
            "Batch 200/1092, Loss: 0.0016305171884596348\n",
            "Batch 300/1092, Loss: 0.01949828304350376\n",
            "Batch 400/1092, Loss: 0.004123413469642401\n",
            "Batch 500/1092, Loss: 0.023671265691518784\n",
            "Batch 600/1092, Loss: 0.0086436178535223\n",
            "Batch 700/1092, Loss: 0.008444603532552719\n",
            "Batch 800/1092, Loss: 0.014262396842241287\n",
            "Batch 900/1092, Loss: 0.005801936611533165\n",
            "Batch 1000/1092, Loss: 0.015332190319895744\n",
            "Epoch 9 - Average Loss: 0.011322309103912303\n",
            "\n",
            "Epoch 10/10\n",
            "Batch 100/1092, Loss: 0.003357074223458767\n",
            "Batch 200/1092, Loss: 0.0025615619961172342\n",
            "Batch 300/1092, Loss: 0.0027021709829568863\n",
            "Batch 400/1092, Loss: 0.020063113421201706\n",
            "Batch 500/1092, Loss: 0.0012453936506062746\n",
            "Batch 600/1092, Loss: 0.0011410395381972194\n",
            "Batch 700/1092, Loss: 0.005824265535920858\n",
            "Batch 800/1092, Loss: 0.008094553835690022\n",
            "Batch 900/1092, Loss: 0.009146083146333694\n",
            "Batch 1000/1092, Loss: 0.015326127409934998\n",
            "Epoch 10 - Average Loss: 0.009496080488203846\n"
          ]
        }
      ]
    },
    {
      "cell_type": "code",
      "source": [],
      "metadata": {
        "id": "kh2h4j1ZwL2X"
      },
      "execution_count": null,
      "outputs": []
    }
  ]
}